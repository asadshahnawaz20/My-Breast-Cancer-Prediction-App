{
 "cells": [
  {
   "cell_type": "code",
   "execution_count": null,
   "id": "de8f4026",
   "metadata": {},
   "outputs": [
    {
     "ename": "",
     "evalue": "",
     "output_type": "error",
     "traceback": [
      "\u001b[1;31mRunning cells with 'venv (3.12.6) (Python 3.12.6)' requires the ipykernel package.\n",
      "\u001b[1;31mInstall 'ipykernel' into the Python environment. \n",
      "\u001b[1;31mCommand: '\"c:/Users/m/Desktop/Breast Cancer Prediction/venv/Scripts/python.exe\" -m pip install ipykernel -U --force-reinstall'"
     ]
    }
   ],
   "source": [
    "import numpy as np\n",
    "import pandas as pd"
   ]
  },
  {
   "cell_type": "code",
   "execution_count": null,
   "id": "f062ecc7",
   "metadata": {},
   "outputs": [],
   "source": [
    "breast = pd.read_csv(\"breast cancer.csv\")"
   ]
  },
  {
   "cell_type": "code",
   "execution_count": null,
   "id": "a3375b85",
   "metadata": {},
   "outputs": [],
   "source": [
    "breast.head()"
   ]
  },
  {
   "cell_type": "code",
   "execution_count": null,
   "id": "8e5ef786",
   "metadata": {},
   "outputs": [],
   "source": [
    "breast.shape"
   ]
  },
  {
   "cell_type": "code",
   "execution_count": null,
   "id": "201f2843",
   "metadata": {},
   "outputs": [],
   "source": [
    "breast.info()"
   ]
  },
  {
   "cell_type": "markdown",
   "id": "5943241e",
   "metadata": {},
   "source": [
    "# 2. Data Preprocessing"
   ]
  },
  {
   "cell_type": "code",
   "execution_count": null,
   "id": "35d0c073",
   "metadata": {},
   "outputs": [],
   "source": [
    "breast.isnull().sum()"
   ]
  },
  {
   "cell_type": "code",
   "execution_count": null,
   "id": "e866cabf",
   "metadata": {},
   "outputs": [],
   "source": [
    "breast.drop('Unnamed: 32', axis=1, inplace=True)"
   ]
  },
  {
   "cell_type": "markdown",
   "id": "3f536dfc",
   "metadata": {},
   "source": [
    "# Encoding the Target Variable"
   ]
  },
  {
   "cell_type": "code",
   "execution_count": null,
   "id": "d8ced201",
   "metadata": {},
   "outputs": [],
   "source": [
    "from sklearn.preprocessing import LabelEncoder\n",
    "le = LabelEncoder()"
   ]
  },
  {
   "cell_type": "code",
   "execution_count": null,
   "id": "6155e401",
   "metadata": {},
   "outputs": [],
   "source": [
    "breast['diagnosis'] = le.fit_transform(breast['diagnosis'])"
   ]
  },
  {
   "cell_type": "markdown",
   "id": "549719e2",
   "metadata": {},
   "source": [
    "# Splitting Data into Training and Testing Sets"
   ]
  },
  {
   "cell_type": "code",
   "execution_count": null,
   "id": "d69770a2",
   "metadata": {},
   "outputs": [],
   "source": [
    "from sklearn.model_selection import train_test_split\n",
    "# Split the data into training and testing sets\n",
    "X = breast.drop('diagnosis', axis=1)\n",
    "y = breast['diagnosis']\n",
    "X_train, X_test, y_train, y_test = train_test_split(X, y, test_size=0.2, random_state=42)\n"
   ]
  },
  {
   "cell_type": "markdown",
   "id": "e2cd9da3",
   "metadata": {},
   "source": [
    "# Feature Scaling"
   ]
  },
  {
   "cell_type": "code",
   "execution_count": null,
   "id": "479f9fee",
   "metadata": {},
   "outputs": [],
   "source": [
    "from sklearn.preprocessing import StandardScaler\n",
    "# Scale the features\n",
    "scaler = StandardScaler()\n",
    "X_train = scaler.fit_transform(X_train)\n",
    "X_test = scaler.transform(X_test)"
   ]
  },
  {
   "cell_type": "markdown",
   "id": "32696c01",
   "metadata": {},
   "source": [
    "# Exploratory Data Analysis (EDA)"
   ]
  },
  {
   "cell_type": "code",
   "execution_count": null,
   "id": "5a7f272c",
   "metadata": {},
   "outputs": [],
   "source": [
    "import seaborn as sns\n",
    "import matplotlib.pyplot as plt\n",
    "\n",
    "# Visualize the distribution of the target variable\n",
    "sns.countplot(x=breast['diagnosis'])\n",
    "plt.title('Distribution of Diagnosis')\n",
    "plt.xlabel('Diagnosis')\n",
    "plt.ylabel('Count')\n",
    "plt.show()\n"
   ]
  },
  {
   "cell_type": "code",
   "execution_count": null,
   "id": "3c285922",
   "metadata": {},
   "outputs": [],
   "source": [
    "# Visualize the correlation matrix\n",
    "breast.corr()"
   ]
  },
  {
   "cell_type": "markdown",
   "id": "c422325f",
   "metadata": {},
   "source": [
    "# Training Model"
   ]
  },
  {
   "cell_type": "code",
   "execution_count": null,
   "id": "17fe3722",
   "metadata": {},
   "outputs": [],
   "source": [
    "from sklearn.linear_model import LogisticRegression\n",
    "from sklearn.metrics import accuracy_score\n",
    "\n",
    "# Train the logistic regression model\n",
    "lr = LogisticRegression()\n",
    "lr.fit(X_train, y_train)\n",
    "\n",
    "# Evaluate the performance on the testing set\n",
    "y_pred_lr = lr.predict(X_test)\n",
    "accuracy_lr = accuracy_score(y_test, y_pred_lr)\n",
    "print('Accuracy:', accuracy_lr)"
   ]
  },
  {
   "cell_type": "code",
   "execution_count": null,
   "id": "8d32f74a",
   "metadata": {},
   "outputs": [],
   "source": [
    "-0.23717126, -0.64487029, -0.11382239, -0.57427777, -0.60294971,\n",
    "        1.0897546 ,  0.91543814,  0.41448279,  0.09311633,  1.78465117,\n",
    "        2.11520208,  0.28454765, -0.31910982,  0.2980991 ,  0.01968238,\n",
    "       -0.47096352,  0.45757106,  0.28733283, -0.23125455,  0.26417944,\n",
    "        0.66325388,  0.12170193,  0.42656325,  0.36885508,  0.02065602,\n",
    "        1.39513782,  2.0973271 ,  2.01276347,  0.61938913,  2.9421769 ,\n",
    "        3.15970842\n",
    "        \n",
    "        \n",
    "        \n",
    "        \n",
    "        \n",
    "  -0.23711093, -0.4976419 ,  0.61365274, -0.49813131, -0.53102815,\n",
    "       -0.57694824, -0.17494424, -0.36215622, -0.284859  ,  0.43345165,\n",
    "        0.17818232, -0.36844966,  0.55310406, -0.31671104, -0.40524636,\n",
    "        0.04025752, -0.03795529, -0.18043065,  0.16478901, -0.12170969,\n",
    "        0.23079329, -0.50044002,  0.81940367, -0.46922838, -0.53308833,\n",
    "       -0.04910117, -0.04160193, -0.14913653,  0.09681787,  0.10617647,\n",
    "        0.49035329      "
   ]
  },
  {
   "cell_type": "markdown",
   "id": "bddc49f7",
   "metadata": {},
   "source": [
    "# Prediction System"
   ]
  },
  {
   "cell_type": "code",
   "execution_count": null,
   "id": "bb7c5790",
   "metadata": {},
   "outputs": [],
   "source": [
    "import numpy as np\n",
    "\n",
    "input_text = (-0.23717126, -0.64487029, -0.11382239, -0.57427777, -0.60294971,\n",
    "        1.0897546 ,  0.91543814,  0.41448279,  0.09311633,  1.78465117,\n",
    "        2.11520208,  0.28454765, -0.31910982,  0.2980991 ,  0.01968238,\n",
    "       -0.47096352,  0.45757106,  0.28733283, -0.23125455,  0.26417944,\n",
    "        0.66325388,  0.12170193,  0.42656325,  0.36885508,  0.02065602,\n",
    "        1.39513782,  2.0973271 ,  2.01276347,  0.61938913,  2.9421769 ,\n",
    "        3.15970842)\n",
    "np_df = np.asarray(input_text)\n",
    "pred = lr.predict(np_df.reshape(1,-1))\n",
    "if pred[0] == 1:\n",
    "    print(\"Cancrous\")\n",
    "else:\n",
    "    print(\"Not Cancrous\")"
   ]
  },
  {
   "cell_type": "code",
   "execution_count": null,
   "id": "00eb5cbc",
   "metadata": {},
   "outputs": [],
   "source": [
    "import pickle\n",
    "pickle.dump(lr,open('model.pkl','wb'))"
   ]
  },
  {
   "cell_type": "code",
   "execution_count": null,
   "id": "b977f7b6",
   "metadata": {},
   "outputs": [],
   "source": []
  }
 ],
 "metadata": {
  "kernelspec": {
   "display_name": "venv (3.12.6)",
   "language": "python",
   "name": "python3"
  },
  "language_info": {
   "codemirror_mode": {
    "name": "ipython",
    "version": 3
   },
   "file_extension": ".py",
   "mimetype": "text/x-python",
   "name": "python",
   "nbconvert_exporter": "python",
   "pygments_lexer": "ipython3",
   "version": "3.12.6"
  }
 },
 "nbformat": 4,
 "nbformat_minor": 5
}
